{
 "cells": [
  {
   "cell_type": "code",
   "execution_count": 13,
   "id": "7fb5c52d",
   "metadata": {},
   "outputs": [],
   "source": [
    "import sys\n",
    "import pandas as pd\n",
    "import numpy as np"
   ]
  },
  {
   "cell_type": "code",
   "execution_count": 14,
   "id": "ba574d90",
   "metadata": {},
   "outputs": [],
   "source": [
    "df = pd.read_csv(\"mealDB.csv\")"
   ]
  },
  {
   "cell_type": "code",
   "execution_count": 16,
   "id": "41a5122a",
   "metadata": {},
   "outputs": [
    {
     "name": "stdout",
     "output_type": "stream",
     "text": [
      "      FOOD ITEM MEASURING UNIT    CAL  FAT (g)  CARBS (g)  PROTEIN (g)  \\\n",
      "0       ALMONDS         OUNCES  170.0     15.0        6.0          6.0   \n",
      "1         APPLE        SERVING   95.0      0.4       30.8          0.6   \n",
      "2   APPLE JUICE            CUP  114.0      0.0       28.0          0.0   \n",
      "3  BAKED POTATO          OUNCE   26.0      0.0        6.0          1.0   \n",
      "4        BANANA      100 grams   89.0      0.0       23.0          1.0   \n",
      "\n",
      "  SCROLL DOWN TO ADD FOODS  \n",
      "0                      NaN  \n",
      "1                      NaN  \n",
      "2                      NaN  \n",
      "3                      NaN  \n",
      "4                      NaN  \n"
     ]
    }
   ],
   "source": [
    "print(df."
   ]
  },
  {
   "cell_type": "code",
   "execution_count": null,
   "id": "8baf81ec",
   "metadata": {},
   "outputs": [],
   "source": []
  }
 ],
 "metadata": {
  "kernelspec": {
   "display_name": "Python 3 (ipykernel)",
   "language": "python",
   "name": "python3"
  },
  "language_info": {
   "codemirror_mode": {
    "name": "ipython",
    "version": 3
   },
   "file_extension": ".py",
   "mimetype": "text/x-python",
   "name": "python",
   "nbconvert_exporter": "python",
   "pygments_lexer": "ipython3",
   "version": "3.11.5"
  }
 },
 "nbformat": 4,
 "nbformat_minor": 5
}
